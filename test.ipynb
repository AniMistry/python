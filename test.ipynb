{
 "cells": [
  {
   "cell_type": "code",
   "execution_count": null,
   "metadata": {},
   "outputs": [
    {
     "ename": "",
     "evalue": "",
     "output_type": "error",
     "traceback": [
      "\u001b[1;31mRunning cells with 'venv' requires the ipykernel package.\n",
      "\u001b[1;31mRun the following command to install 'ipykernel' into the Python environment. \n",
      "\u001b[1;31mCommand: 'd:/Program_Files/python/venv/Scripts/python.exe -m pip install ipykernel -U --force-reinstall'"
     ]
    }
   ],
   "source": [
    "import cv2\n",
    "import numpy as np\n",
    "import matplotlib.pyplot as plt\n",
    "\n",
    "img_final = cv2.imread('./img/light_screen.png') # type: ignore\n",
    "\n",
    "new_img = np.zeros(img_final.shape, img_final.dtype)\n",
    "\n",
    "contrast = 3.0\n",
    "brightness = 10\n",
    "\n",
    "for y in range(img_final.shape[0]):\n",
    "    for x in range(img_final.shape[1]):\n",
    "        for c in range(img_final.shape[2]):\n",
    "            new_img[y, x, c] = np.clip(contrast*img_final[y, x, c] + brightness, 0, 255)\n",
    "\n",
    "plt.figure(0)\n",
    "plt.imshow(img_final)\n",
    "plt.figure(1)\n",
    "plt.imshow(new_img)\n",
    "    "
   ]
  }
 ],
 "metadata": {
  "kernelspec": {
   "display_name": "venv",
   "language": "python",
   "name": "python3"
  },
  "language_info": {
   "codemirror_mode": {
    "name": "ipython",
    "version": 3
   },
   "file_extension": ".py",
   "mimetype": "text/x-python",
   "name": "python",
   "nbconvert_exporter": "python",
   "pygments_lexer": "ipython3",
   "version": "3.11.3"
  },
  "orig_nbformat": 4
 },
 "nbformat": 4,
 "nbformat_minor": 2
}
